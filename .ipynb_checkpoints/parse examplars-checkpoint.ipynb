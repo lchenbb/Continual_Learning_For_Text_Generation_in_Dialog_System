{
 "cells": [
  {
   "cell_type": "code",
   "execution_count": 49,
   "metadata": {},
   "outputs": [
    {
     "name": "stdout",
     "output_type": "stream",
     "text": [
      "/Users/feimi/Documents/GitHub/Continual_Learning_for_NLG/nlg-sclstm-multiwoz-incremental/nlg-sclstm-multiwoz-master\n"
     ]
    },
    {
     "name": "stderr",
     "output_type": "stream",
     "text": [
      "Whole Data Set INFO\n",
      "***** DATA INFO *****\n",
      "# of turns\n",
      "Train: 43812\n",
      "Valid: 5905\n",
      "Test: 5916\n",
      "# of batches: Train 171 Valid 23 Test 23\n",
      "The number of examplar batch is 0, 0\n",
      "The number of batch is 0, 0\n"
     ]
    },
    {
     "name": "stdout",
     "output_type": "stream",
     "text": [
      "***** DATA INFO *****\n",
      "Using 100.0% of training data\n",
      "BATCH SIZE: 256\n",
      "Train: 43812 turns\n",
      "Valid: 5905 turns\n",
      "Test: 5916 turns\n",
      "# of batches: Train 171 Valid 23 Test 23\n",
      "*************************\n",
      "\n",
      "/Users/feimi/Documents/GitHub/Continual_Learning_for_NLG/nlg-sclstm-multiwoz-incremental/nlg-sclstm-multiwoz-master\n",
      "/Users/feimi/Documents/GitHub/Continual_Learning_for_NLG/nlg-sclstm-multiwoz-incremental/nlg-sclstm-multiwoz-master\n",
      "Current task is Attraction\n",
      "SV counter is Counter({'Inform-Name': 365, 'Inform-Addr': 331, 'Inform-Type': 297, 'Inform-Area': 290, 'Inform-Choice': 240, 'Inform-Fee': 221, 'Inform-Phone': 203, 'Inform-Post': 181, 'Recommend-Name': 148, 'Request-Area': 75, 'Request-Type': 71, 'Recommend-Addr': 43, 'Select-Type': 39, 'NoOffer-Type': 38, 'NoOffer-Area': 37, 'Recommend-Fee': 36, 'Recommend-Area': 27, 'Select-none': 25, 'Recommend-Type': 21, 'Recommend-Post': 15, 'Recommend-Phone': 14, 'NoOffer-none': 12, 'Request-Price': 11, 'Inform-Price': 9, 'Request-Name': 9, 'Select-Area': 8, 'Select-Fee': 5, 'Select-Name': 4, 'Recommend-none': 3, 'Recommend-Choice': 3, 'Select-Price': 2, 'Inform-none': 1, 'Select-Choice': 1, 'NoOffer-Name': 1})\n",
      "SV contents is ['Inform-Addr', 'Inform-Area', 'Inform-Choice', 'Inform-Fee', 'Inform-Name', 'Inform-Phone', 'Inform-Post', 'Inform-Price', 'Inform-Type', 'Inform-none', 'NoOffer-Area', 'NoOffer-Type', 'Recommend-Addr', 'Recommend-Area', 'Recommend-Fee', 'Recommend-Name', 'Recommend-Phone', 'Recommend-Post', 'Recommend-Type', 'Request-Area', 'Request-Type', 'Select-Area', 'Select-Choice', 'Select-Fee', 'Select-Name', 'Select-Type']\n",
      "/Users/feimi/Documents/GitHub/Continual_Learning_for_NLG/nlg-sclstm-multiwoz-incremental/nlg-sclstm-multiwoz-master\n"
     ]
    },
    {
     "name": "stderr",
     "output_type": "stream",
     "text": [
      "The number of examplar batch is 0, 0\n",
      "The number of batch is 26, 3\n",
      "The number of examplar batch is 0, 0\n",
      "The number of batch is 0, 0\n"
     ]
    },
    {
     "name": "stdout",
     "output_type": "stream",
     "text": [
      "/Users/feimi/Documents/GitHub/Continual_Learning_for_NLG/nlg-sclstm-multiwoz-incremental/nlg-sclstm-multiwoz-master\n",
      "Current task is Taxi\n",
      "SV counter is Counter({'Inform-Car': 201, 'Inform-Phone': 200, 'Request-Leave': 74, 'Request-Depart': 60, 'Request-Dest': 51, 'Request-Arrive': 41, 'Inform-Depart': 28, 'Inform-Dest': 22, 'Inform-Leave': 15, 'Inform-Arrive': 10, 'Inform-none': 4})\n",
      "SV contents is ['Inform-Arrive', 'Inform-Car', 'Inform-Depart', 'Inform-Dest', 'Inform-Leave', 'Inform-Phone', 'Request-Arrive', 'Request-Depart', 'Request-Dest', 'Request-Leave']\n",
      "/Users/feimi/Documents/GitHub/Continual_Learning_for_NLG/nlg-sclstm-multiwoz-incremental/nlg-sclstm-multiwoz-master\n"
     ]
    },
    {
     "name": "stderr",
     "output_type": "stream",
     "text": [
      "The number of examplar batch is 0, 0\n",
      "The number of batch is 10, 1\n",
      "The number of examplar batch is 0, 0\n",
      "The number of batch is 0, 0\n"
     ]
    },
    {
     "name": "stdout",
     "output_type": "stream",
     "text": [
      "/Users/feimi/Documents/GitHub/Continual_Learning_for_NLG/nlg-sclstm-multiwoz-incremental/nlg-sclstm-multiwoz-master\n",
      "Current task is Restaurant\n",
      "SV counter is Counter({'Inform-Name': 343, 'Inform-Choice': 343, 'Inform-Food': 302, 'Inform-Area': 264, 'Inform-Price': 218, 'Request-Food': 163, 'Recommend-Name': 145, 'Inform-Addr': 143, 'Inform-Phone': 94, 'Inform-Post': 93, 'Request-Area': 91, 'Request-Price': 76, 'NoOffer-Food': 68, 'Select-none': 39, 'NoOffer-Area': 37, 'Recommend-Food': 32, 'Recommend-Addr': 27, 'Recommend-Area': 26, 'Select-Price': 26, 'NoOffer-none': 26, 'Select-Name': 23, 'Recommend-Price': 21, 'Select-Food': 20, 'NoOffer-Price': 18, 'Select-Area': 6, 'Recommend-Post': 6, 'Inform-Ref': 5, 'Recommend-Phone': 4, 'Request-Name': 4, 'Select-Choice': 3, 'NoOffer-Name': 1, 'Recommend-none': 1})\n",
      "SV contents is ['Inform-Addr', 'Inform-Area', 'Inform-Choice', 'Inform-Food', 'Inform-Name', 'Inform-Phone', 'Inform-Post', 'Inform-Price', 'NoOffer-Area', 'NoOffer-Food', 'NoOffer-Price', 'NoOffer-none', 'Recommend-Addr', 'Recommend-Area', 'Recommend-Choice', 'Recommend-Food', 'Recommend-Name', 'Recommend-Phone', 'Recommend-Post', 'Recommend-Price', 'Request-Area', 'Request-Food', 'Request-Name', 'Request-Price', 'Select-Area', 'Select-Food', 'Select-Name', 'Select-Price']\n",
      "/Users/feimi/Documents/GitHub/Continual_Learning_for_NLG/nlg-sclstm-multiwoz-incremental/nlg-sclstm-multiwoz-master\n"
     ]
    },
    {
     "name": "stderr",
     "output_type": "stream",
     "text": [
      "The number of examplar batch is 0, 0\n",
      "The number of batch is 35, 3\n",
      "The number of examplar batch is 0, 0\n",
      "The number of batch is 0, 0\n"
     ]
    },
    {
     "name": "stdout",
     "output_type": "stream",
     "text": [
      "/Users/feimi/Documents/GitHub/Continual_Learning_for_NLG/nlg-sclstm-multiwoz-incremental/nlg-sclstm-multiwoz-master\n",
      "Current task is Train\n",
      "SV counter is Counter({'Inform-Leave': 467, 'Inform-Arrive': 381, 'Inform-Id': 357, 'OfferBook-none': 333, 'Inform-Choice': 272, 'OfferBooked-Ref': 271, 'Request-Leave': 215, 'Inform-Dest': 209, 'Request-Day': 192, 'Inform-Depart': 182, 'Request-Depart': 181, 'OfferBooked-Ticket': 179, 'Request-Dest': 152, 'Inform-Ticket': 149, 'Inform-Time': 117, 'Inform-Day': 115, 'Request-Arrive': 100, 'Request-People': 76, 'OfferBooked-Id': 63, 'OfferBooked-People': 46, 'OfferBooked-Leave': 30, 'Select-none': 27, 'OfferBook-Id': 20, 'OfferBooked-Arrive': 19, 'Inform-Ref': 16, 'OfferBook-Leave': 15, 'OfferBooked-Depart': 14, 'OfferBook-Arrive': 12, 'OfferBooked-Dest': 9, 'OfferBooked-Day': 8, 'Select-Leave': 7, 'OfferBook-Dest': 4, 'OfferBooked-Time': 4, 'Select-Day': 4, 'NoOffer-Depart': 3, 'OfferBooked-none': 3, 'Select-Arrive': 3, 'OfferBook-People': 3, 'OfferBook-Day': 3, 'OfferBook-Depart': 2, 'NoOffer-Leave': 2, 'Inform-People': 2, 'NoOffer-Day': 2, 'Select-Id': 1, 'NoOffer-none': 1, 'OfferBook-Choice': 1, 'OfferBook-Ref': 1, 'NoOffer-Arrive': 1, 'NoOffer-Dest': 1})\n",
      "SV contents is ['Inform-Arrive', 'Inform-Choice', 'Inform-Day', 'Inform-Depart', 'Inform-Dest', 'Inform-Id', 'Inform-Leave', 'Inform-People', 'Inform-Ticket', 'Inform-Time', 'Inform-none', 'NoOffer-Leave', 'OfferBook-Arrive', 'OfferBook-Choice', 'OfferBook-Depart', 'OfferBook-Dest', 'OfferBook-Id', 'OfferBook-Leave', 'OfferBook-Ref', 'OfferBook-none', 'OfferBooked-Depart', 'OfferBooked-Dest', 'OfferBooked-Id', 'OfferBooked-Leave', 'OfferBooked-People', 'OfferBooked-Ref', 'OfferBooked-Ticket', 'OfferBooked-none', 'Request-Arrive', 'Request-Day', 'Request-Depart', 'Request-Dest', 'Request-Leave', 'Request-People', 'Select-Id', 'Select-Leave']\n",
      "/Users/feimi/Documents/GitHub/Continual_Learning_for_NLG/nlg-sclstm-multiwoz-incremental/nlg-sclstm-multiwoz-master\n"
     ]
    },
    {
     "name": "stderr",
     "output_type": "stream",
     "text": [
      "The number of examplar batch is 0, 0\n",
      "The number of batch is 39, 6\n",
      "The number of examplar batch is 0, 0\n",
      "The number of batch is 0, 0\n"
     ]
    },
    {
     "name": "stdout",
     "output_type": "stream",
     "text": [
      "/Users/feimi/Documents/GitHub/Continual_Learning_for_NLG/nlg-sclstm-multiwoz-incremental/nlg-sclstm-multiwoz-master\n",
      "Current task is Booking\n",
      "SV counter is Counter({'Book-Ref': 482, 'Request-Day': 164, 'Request-Stay': 97, 'Request-Time': 93, 'Request-People': 92, 'Book-Name': 84, 'NoBook-none': 84, 'Book-Day': 81, 'Book-People': 70, 'Book-Time': 59, 'Inform-none': 43, 'Book-Stay': 36, 'Inform-Name': 21, 'NoBook-Day': 13, 'Inform-Day': 11, 'NoBook-Time': 10, 'NoBook-Stay': 6, 'Inform-People': 6, 'NoBook-People': 5, 'Inform-Stay': 4, 'Inform-Ref': 3, 'Inform-Time': 2, 'NoBook-Name': 1, 'Book-none': 1, 'NoBook-Ref': 1})\n",
      "SV contents is ['Book-Day', 'Book-Name', 'Book-People', 'Book-Ref', 'Book-Stay', 'Book-Time', 'Inform-People', 'Inform-Stay', 'NoBook-Day', 'NoBook-Name', 'NoBook-People', 'NoBook-Ref', 'NoBook-Stay', 'NoBook-Time', 'NoBook-none', 'Request-Day', 'Request-People', 'Request-Stay', 'Request-Time']\n",
      "/Users/feimi/Documents/GitHub/Continual_Learning_for_NLG/nlg-sclstm-multiwoz-incremental/nlg-sclstm-multiwoz-master\n"
     ]
    },
    {
     "name": "stderr",
     "output_type": "stream",
     "text": [
      "The number of examplar batch is 0, 0\n",
      "The number of batch is 24, 3\n",
      "The number of examplar batch is 0, 0\n",
      "The number of batch is 0, 0\n"
     ]
    },
    {
     "name": "stdout",
     "output_type": "stream",
     "text": [
      "/Users/feimi/Documents/GitHub/Continual_Learning_for_NLG/nlg-sclstm-multiwoz-incremental/nlg-sclstm-multiwoz-master\n",
      "Current task is Hotel\n",
      "SV counter is Counter({'Inform-Choice': 377, 'Inform-Name': 366, 'Inform-Type': 302, 'Inform-Price': 225, 'Inform-Area': 221, 'Inform-Stars': 170, 'Request-Area': 163, 'Recommend-Name': 135, 'Inform-Parking': 125, 'Inform-Internet': 122, 'Inform-Addr': 115, 'Request-Price': 110, 'Inform-Phone': 88, 'Inform-Post': 72, 'Select-none': 42, 'NoOffer-Type': 37, 'Recommend-Area': 35, 'Request-Stars': 34, 'Recommend-Price': 30, 'Recommend-Stars': 29, 'Request-Type': 20, 'Request-Parking': 19, 'NoOffer-Price': 19, 'Select-Area': 19, 'Recommend-Internet': 18, 'Recommend-Parking': 17, 'Select-Price': 17, 'Select-Type': 17, 'Request-Internet': 16, 'NoOffer-Area': 16, 'Recommend-Type': 16, 'NoOffer-Stars': 15, 'Recommend-Addr': 10, 'Select-Stars': 9, 'NoOffer-none': 9, 'Select-Name': 6, 'Request-Name': 5, 'Recommend-Post': 5, 'Recommend-Choice': 4, 'NoOffer-Internet': 4, 'Select-Choice': 3, 'Recommend-Phone': 3, 'NoOffer-Parking': 3, 'Inform-Ref': 2, 'NoOffer-Name': 2, 'Inform-none': 2, 'Recommend-none': 1})\n",
      "SV contents is ['Inform-Addr', 'Inform-Area', 'Inform-Choice', 'Inform-Internet', 'Inform-Name', 'Inform-Parking', 'Inform-Phone', 'Inform-Post', 'Inform-Price', 'Inform-Ref', 'Inform-Stars', 'Inform-Type', 'NoOffer-Area', 'NoOffer-Price', 'NoOffer-Stars', 'NoOffer-Type', 'NoOffer-none', 'Recommend-Addr', 'Recommend-Area', 'Recommend-Internet', 'Recommend-Name', 'Recommend-Phone', 'Recommend-Post', 'Recommend-Price', 'Recommend-Stars', 'Recommend-Type', 'Request-Area', 'Request-Internet', 'Request-Name', 'Request-Parking', 'Request-Price', 'Request-Stars', 'Request-Type', 'Select-Area', 'Select-Choice', 'Select-Internet', 'Select-Name', 'Select-Parking', 'Select-Price', 'Select-Stars', 'Select-Type']\n",
      "           DA recall SV recall (Fine grained) SV recall (Coarse grained)  \\\n",
      "Attraction         1                 0.690476                   0.541667   \n",
      "Taxi               1                 0.769231                   0.909091   \n",
      "Restaurant         1                 0.488372                   0.682927   \n",
      "Train              1                 0.396694                   0.545455   \n",
      "Booking            1                 0.657143                       0.76   \n",
      "Hotel              1                    0.648                   0.732143   \n",
      "\n",
      "           SV length Full task coverage (Fine-grained)  \\\n",
      "Attraction   5.71875                          0.140895   \n",
      "Taxi         2.57812                          0.135352   \n",
      "Restaurant   4.60938                          0.103452   \n",
      "Train        3.71875                          0.153793   \n",
      "Booking      2.51562                          0.119237   \n",
      "Hotel        4.78125                          0.106227   \n",
      "\n",
      "           Full task coverage (Coarse grained)  \n",
      "Attraction                            0.142815  \n",
      "Taxi                                  0.135352  \n",
      "Restaurant                            0.105679  \n",
      "Train                                 0.155381  \n",
      "Booking                               0.119394  \n",
      "Hotel                                 0.107357  \n"
     ]
    },
    {
     "name": "stderr",
     "output_type": "stream",
     "text": [
      "The number of examplar batch is 0, 0\n",
      "The number of batch is 34, 4\n"
     ]
    }
   ],
   "source": [
    "import os\n",
    "from configparser import ConfigParser\n",
    "from loader.dataset_woz3 import DatasetWoz3\n",
    "from loader.task import Task\n",
    "from loader.task import Examplars\n",
    "from loader.task import generate_task\n",
    "import pandas as pd\n",
    "from collections import Counter\n",
    "\n",
    "# Settings\n",
    "config_file = \"./config/config.cfg\"\n",
    "config = ConfigParser()\n",
    "config.read(config_file)\n",
    "\n",
    "datasplit_file = config[\"DATA\"][\"data_split\"]\n",
    "experiment_prefix = config[\"EXPERIMENT\"][\"experiment_prefix\"]\n",
    "experiment_type = 'examplar_herding_64'\n",
    "examplar_prefix = f\"{experiment_prefix}{experiment_type}/examplars/\"\n",
    "template_file = config[\"DATA\"][\"template_file\"]\n",
    "output_file = experiment_prefix+experiment_type+\".csv\"\n",
    "\n",
    "if __name__ == \"__main__\":\n",
    "\n",
    "    # Read template\n",
    "    with open(template_file, \"r\") as f:\n",
    "        template = f.read()\n",
    "    template = template.split(\"\\n\")\n",
    "    da_data = [term for term in template if term.startswith(\"d-a:\")]\n",
    "    sv_data = [term for term in template if term.startswith(\"d-a-s-v:\")]\n",
    "\n",
    "    # Get all training examplars of given experiment\n",
    "    examplar_files = os.listdir(examplar_prefix)\n",
    "    examplar_files = [examplar_prefix + file for file in examplar_files]\n",
    "    examplar_files = [file for file in examplar_files if \"train\" in file and \"json\" in file]\n",
    "    task_names = [file.split(\"/\")[-1].split(\"_\")[0] for file in examplar_files]\n",
    "\n",
    "    # Initialize dataframe holder\n",
    "    data_df = pd.DataFrame(index=task_names,\n",
    "                           columns=[\"DA recall\", \"SV recall (Fine grained)\", \"SV recall (Coarse grained)\", \"SV length\",\n",
    "                                    \"Full task coverage (Fine-grained)\", \"Full task coverage (Coarse grained)\"])\n",
    "\n",
    "    # Initialize global dataset\n",
    "    dataset = DatasetWoz3(config, datasplit_file, percentage=1.0)\n",
    "\n",
    "    # Loop through all tasks to check quality of examplars\n",
    "    for i, file in enumerate(examplar_files):\n",
    "\n",
    "        # Construct current task\n",
    "        task_name = task_names[i]\n",
    "        examplars = Examplars.load(file)\n",
    "        data = dict({\"train\": examplars.data, \"valid\": [], \"test\": []})\n",
    "\n",
    "        # Get examplar task only containing examplar data\n",
    "        task = Task(config, percentage=1.0, data=data, task_name=task_name,\n",
    "                    examplars=dict({\"train\": None, \"valid\": None}))\n",
    "\n",
    "        # Get full task containing all data for current task type\n",
    "        full_task, _ = generate_task(dataset, [template.index(f\"d:{task_name}\")], old_examplars=None)\n",
    "\n",
    "        # Get current_task's da_indices and sv_indices / sv_contents\n",
    "        gt_da_indices = [i for i in range(len(da_data)) if da_data[i].startswith(f\"d-a:{task_name}\")]\n",
    "        gt_sv_indices = [i for i in range(len(sv_data)) if sv_data[i].startswith(f\"d-a-s-v:{task_name}\")]\n",
    "        gt_sv_contents = set([\"-\".join(sv_data[i].split(\":\")[1].split(\"-\")[1: 3]) for i in gt_sv_indices])\n",
    "\n",
    "        # Get da_idx, sv_idx, sv_content and sv_len\n",
    "        da_indices = set()\n",
    "        sv_indices = set()\n",
    "        sv_contents = set()\n",
    "        sv_len = []\n",
    "\n",
    "        for _, _, text, meta in task.data[\"train\"]:\n",
    "            _, da_idx, sv_idx, feat_str = task.getFeatIdx(meta)\n",
    "\n",
    "            da_indices = da_indices | set(da_idx)\n",
    "            sv_indices = sv_indices | set(sv_idx)\n",
    "            sv_len.append(len(sv_idx))\n",
    "            sv_contents = sv_contents | set([\"-\".join(sv_data[i].split(\":\")[1].split(\"-\")[1: 3]) for i in sv_idx])\n",
    "\n",
    "        sv_contents.discard(\"\")\n",
    "        #print(sorted(gt_sv_contents))\n",
    "\n",
    "        # Calculate recall of da and sv\n",
    "        da_recall = len(da_indices) / len(gt_da_indices)\n",
    "        sv_recall_fine_grained = len(sv_indices) / len(gt_sv_indices)\n",
    "        sv_recall_coarse_grained = len(sv_contents) / len(gt_sv_contents)\n",
    "        mean_sv_len = sum(sv_len) / len(sv_len)\n",
    "\n",
    "        # Calculate the percentage of training samples in full_task that are covered by examplar sv-pairs\n",
    "        covered_sv_num = 0\n",
    "        covered_content_num = 0\n",
    "        all_sv = []\n",
    "        for _, _, text, meta in full_task.data[\"train\"]:\n",
    "            sv_idx = full_task.getFeatIdx(meta)[2]\n",
    "            sv_content = set([\"-\".join(sv_data[i].split(\":\")[1].split(\"-\")[1: 3]) for i in sv_idx])\n",
    "            all_sv += [\"-\".join(sv_data[i].split(\":\")[1].split(\"-\")[1: 3]) for i in sv_idx]\n",
    "            covered_sv_num += set(sv_idx).issubset(sv_indices)\n",
    "            covered_content_num += set(sv_content).issubset(sv_contents)\n",
    "\n",
    "        covered_sv_percentage = covered_sv_num / len(full_task.data[\"train\"])\n",
    "        covered_content_percentage = covered_content_num / len(full_task.data[\"train\"])\n",
    "\n",
    "        print(f\"Current task is {task_name}\")\n",
    "        print(f\"SV counter is {Counter(all_sv)}\")\n",
    "        print(f\"SV contents is {sorted(sv_contents)}\")\n",
    "        data_df.loc[task_name] = [da_recall, sv_recall_fine_grained, sv_recall_coarse_grained, mean_sv_len,\n",
    "                                  covered_sv_percentage, covered_content_percentage]\n",
    "\n",
    "    #data_df.to_csv(output_file, index=True, columns=data_df.columns)\n",
    "    print(data_df)"
   ]
  },
  {
   "cell_type": "code",
   "execution_count": 45,
   "metadata": {},
   "outputs": [
    {
     "name": "stdout",
     "output_type": "stream",
     "text": [
      "1 the postcode is slot-attraction-inform-post .\n",
      "2 yes slot-attraction-inform-name is located in the slot-attraction-inform-area . \n",
      "3 there are no slot-attraction-nooffer-type in the same area but there is slot-attraction-inform-choice in the slot-attraction-inform-area .\n",
      "4 are you looking for one with slot-attraction-select-fee ?\n",
      "5 unfortunately there is n't anything in the slot-attraction-nooffer-area that 's slot-attraction-nooffer-type , do you have an alternate preference or area you 'd like ? \n",
      "6 i would recommend slot-attraction-inform-name . the entrance fee is slot-attraction-inform-fee . \n",
      "7 slot-attraction-recommend-name is an slot-attraction-recommend-type in the slot-attraction-recommend-area , phone is slot-attraction-recommend-phone , post code is , slot-attraction-recommend-post and address is slot-attraction-recommend-addr , it is slot-attraction-recommend-fee to enter . \n",
      "8 of course - the address is slot-attraction-inform-addr slot-attraction-inform-post and the phone number is slot-attraction-inform-phone \n",
      "9 yes , it 's a lovely slot-attraction-inform-type in the west at slot-attraction-inform-addr , slot-attraction-inform-addr . their phone number is slot-attraction-inform-phone and they offer slot-attraction-inform-fee entrance .\n",
      "10 would you like visit slot-attraction-recommend-name ? the entrance fee is slot-attraction-inform-fee . \n",
      "11 there are slot-attraction-inform-choice museums in that area : slot-attraction-inform-name , slot-attraction-inform-name , slot-attraction-inform-name , and slot-attraction-inform-name . do any of those sound interesting ? \n",
      "12 slot-attraction-inform-name is great . the address is slot-attraction-inform-addr , slot-attraction-inform-fee & their number is slot-attraction-inform-phone , anything else ?\n",
      "13 if you would like a suggestion , there is a slot-attraction-recommend-type called the slot-attraction-recommend-name that is always a very popular venue in the slot-attraction-recommend-area .\n",
      "14 slot-attraction-inform-name is on slot-attraction-inform-addr and admission is slot-attraction-inform-fee . \n",
      "15 post code is slot-attraction-inform-post and phone number is slot-attraction-inform-phone .\n",
      "16 slot-attraction-inform-name is in the slot-attraction-inform-area of town . it 's located at slot-attraction-inform-addr , slot-attraction-inform-addr .\n",
      "17 i 'm afraid that the entrance fee is slot-attraction-inform-fee .\n",
      "18 yes there are slot-attraction-inform-choice colleges in the area . do you have one in mind ? \n",
      "19 slot-attraction-inform-name is located in the slot-attraction-inform-area .\n",
      "20 how about slot-attraction-recommend-name ? it fits your criteria and has slot-attraction-recommend-fee ! \n",
      "21 sorry , i did n't pull up any results . would you like me to check surrounding areas ? \n",
      "22 i slot-attraction-inform-fee what the entrance fee is . you may call slot-attraction-inform-phone to check .\n",
      "23 please pick a pool first ; slot-attraction-select-name or slot-attraction-select-name ? \n",
      "24 there are slot-attraction-inform-choice slot-attraction-inform-type listed in the slot-attraction-inform-area area , what kind of museum are you interested in ? \n",
      "25 what type of attraction are you looking at ? \n",
      "26 the admission is slot-attraction-inform-fee .\n",
      "27 i 'm sorry , that information is slot-attraction-inform-fee to me . \n",
      "28 slot-attraction-inform-name is a favorite of mine is the slot-attraction-inform-area . the post code is slot-attraction-inform-post .\n",
      "29 slot-attraction-inform-name 's number is slot-attraction-inform-phone . \n",
      "30 slot-attraction-inform-name is nearby . \n",
      "31 the address is slot-attraction-inform-addr .\n",
      "32 you can contact slot-attraction-inform-name at slot-attraction-inform-phone .\n",
      "33 certainly , we have slot-attraction-inform-choice attractions in the slot-attraction-inform-area . do you have a particular type in mind ? \n",
      "34 slot-attraction-recommend-name is a slot-attraction-recommend-type , it is slot-attraction-recommend-fee . postcode : slot-attraction-recommend-post . \n",
      "35 they have slot-attraction-inform-fee entrance and their address is slot-attraction-inform-addr \n",
      "36 we have slot-attraction-inform-choice slot-attraction-inform-type in the slot-attraction-inform-area .\n",
      "37 there is a slot-attraction-inform-fee admission fee . slot-attraction-inform-name is slot-attraction-inform-fee and located at slot-attraction-inform-addr with a postcode slot-attraction-inform-post and phone slot-attraction-inform-phone .\n",
      "38 i see slot-attraction-inform-choice slot-attraction-inform-type and slot-attraction-inform-type in slot-attraction-inform-area , do you have a preference for one over the other ? \n",
      "39 we have slot-attraction-inform-choice nice attractions in the slot-attraction-inform-area . do you know what type you 'd be interested in visiting ? \n",
      "40 may i recommend slot-attraction-recommend-name on slot-attraction-recommend-area . \n",
      "41 i have slot-attraction-inform-choice of them to choose from .\n",
      "42 slot-attraction-recommend-name is in the slot-attraction-recommend-fee . entrance fee is slot-attraction-recommend-price .\n",
      "43 reservations are n't necessary for the club salsa , but the entrance fee is slot-attraction-inform-fee .\n",
      "44 sure there phone number is slot-attraction-inform-phone and postal code is slot-attraction-inform-post . \n",
      "45 there are slot-attraction-inform-choice slot-attraction-inform-type in the slot-attraction-inform-area , what type of attraction are you interested in ? \n",
      "46 the phone number for slot-attraction-inform-name is slot-attraction-inform-phone and they are located on slot-attraction-inform-addr . they slot-attraction-inform-fee .\n",
      "47 i 'm sorry , but there are n't any slot-attraction-nooffer-type in the slot-attraction-nooffer-area . would you like to try a different part of town ? \n",
      "48 there are no slot-attraction-nooffer-type in the slot-attraction-nooffer-area , would another area work for you ? \n",
      "49 i recommend slot-attraction-recommend-name .\n",
      "50 there are slot-attraction-inform-choice slot-attraction-inform-type in cambridge . are you looking for one in a specific area ? \n",
      "51 would you like a slot-attraction-select-fee one or a slot-attraction-select-fee entry one ? \n",
      "52 there are quite a few fantastic museums to choose from . is there a specific area you are looking for ? \n",
      "53 there are slot-attraction-inform-choice slot-attraction-inform-type attractions in the slot-attraction-inform-area . i suggest slot-attraction-recommend-name . \n",
      "54 i apologize . i have doubled checked and there is no slot-attraction-inform-type venues in slot-attraction-nooffer-area . the slot-attraction-inform-type venues that i do have are located in slot-attraction-inform-area , slot-attraction-inform-area and slot-attraction-inform-area . \n",
      "55 great , i can definitely help you with that . did you have a particular type of attraction or area of town you were looking for ? \n",
      "56 i 'm not showing anything in the slot-attraction-nooffer-area . is there another area you 're interested in visiting , or a different type of attraction ? \n",
      "57 what part of town would you like to visit ? \n",
      "58 i suggest slot-attraction-recommend-name on the slot-attraction-recommend-area ! \n",
      "59 i highly recommend the slot-attraction-recommend-name in the slot-attraction-recommend-area . they have slot-attraction-recommend-fee admission . they are located at slot-attraction-recommend-addr , slot-attraction-recommend-addr . \n",
      "60 slot-attraction-inform-name is nice their address is slot-attraction-inform-addr and it 's slot-attraction-inform-fee \n",
      "61 the address is slot-attraction-inform-addr and the postcode is slot-attraction-inform-post .\n",
      "62 their phone number is slot-attraction-inform-phone .\n",
      "63 there are slot-attraction-inform-choice ! does slot-attraction-inform-type interest you ? \n",
      "64 i have slot-attraction-inform-choice options for you . both are in the slot-attraction-inform-area part of town . one is slot-attraction-inform-name and the other is slot-attraction-inform-name . do you have a preference ? \n",
      "14.846153846153847\n"
     ]
    }
   ],
   "source": [
    "import json\n",
    "\n",
    "experiment_type = 'examplar_random_64'\n",
    "examplar_prefix = f\"{experiment_prefix}{experiment_type}/examplars/\"\n",
    "\n",
    "a = json.load(open(examplar_prefix+\"Attraction_train_data_file.json\", 'r'))\n",
    "\n",
    "count = 1\n",
    "total_len = 0\n",
    "for item in a:\n",
    "    sent = item[2]['delex']\n",
    "    total_len += len(sent.split(' '))\n",
    "    print(count, sent)\n",
    "    count += 1\n",
    "\n",
    "print (total_len/count)"
   ]
  },
  {
   "cell_type": "code",
   "execution_count": null,
   "metadata": {},
   "outputs": [],
   "source": []
  }
 ],
 "metadata": {
  "kernelspec": {
   "display_name": "Python 3",
   "language": "python",
   "name": "python3"
  },
  "language_info": {
   "codemirror_mode": {
    "name": "ipython",
    "version": 3
   },
   "file_extension": ".py",
   "mimetype": "text/x-python",
   "name": "python",
   "nbconvert_exporter": "python",
   "pygments_lexer": "ipython3",
   "version": "3.6.3"
  }
 },
 "nbformat": 4,
 "nbformat_minor": 2
}
